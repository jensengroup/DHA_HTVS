{
  "nbformat": 4,
  "nbformat_minor": 0,
  "metadata": {
    "colab": {
      "name": "dha_GA_test.ipynb",
      "provenance": [],
      "collapsed_sections": [],
      "toc_visible": true
    },
    "kernelspec": {
      "name": "python3",
      "display_name": "Python 3"
    }
  },
  "cells": [
    {
      "cell_type": "markdown",
      "metadata": {
        "id": "fBYeCg78ObCd",
        "colab_type": "text"
      },
      "source": [
        "# Code to run GA with Linear ML model \n",
        "This notebook was made on Google Colab ([link to notebook](https://colab.research.google.com/drive/1j9gOa6u0RC98X6P3RA77vasgSLjZ7HFz?usp=sharing)). If you are running on your local machine remove the cells related to data retrieval and RDKit installation, and change the paths to the files as needed.\n"
      ]
    },
    {
      "cell_type": "markdown",
      "metadata": {
        "id": "YAZ8pmjGSk5O",
        "colab_type": "text"
      },
      "source": [
        "# Software installation and data retrieval, etc."
      ]
    },
    {
      "cell_type": "code",
      "metadata": {
        "id": "9AYQmfqcSi4r",
        "colab_type": "code",
        "colab": {}
      },
      "source": [
        "%%capture\n",
        "# Install RDKit\n",
        "# takes 2-3 minutes\n",
        "!wget -c https://repo.continuum.io/miniconda/Miniconda3-latest-Linux-x86_64.sh\n",
        "!chmod +x Miniconda3-latest-Linux-x86_64.sh\n",
        "!time bash ./Miniconda3-latest-Linux-x86_64.sh -b -f -p /usr/local\n",
        "!time conda install -q -y -c conda-forge rdkit"
      ],
      "execution_count": 1,
      "outputs": []
    },
    {
      "cell_type": "code",
      "metadata": {
        "id": "vG7XBkEdoRrj",
        "colab_type": "code",
        "colab": {
          "base_uri": "https://localhost:8080/",
          "height": 590
        },
        "outputId": "9dd0daaf-13f6-4648-84b1-fa37e3199ebe"
      },
      "source": [
        "! rm -rf linear_barrier27_model.pkl storage-14_model.csv storage-57_model.csv\n",
        "! wget https://sid.erda.dk/share_redirect/EwaEr2JMrb/all_230_billion/ml_models/linear_regression/linear_barrier27_model.pkl\n",
        "! wget https://sid.erda.dk/share_redirect/EwaEr2JMrb/all_230_billion/ml_models/linear_regression/storage-24_model.csv\n",
        "! wget https://sid.erda.dk/share_redirect/EwaEr2JMrb/all_230_billion/ml_models/linear_regression/storage-57_model.csv"
      ],
      "execution_count": 2,
      "outputs": [
        {
          "output_type": "stream",
          "text": [
            "--2020-07-03 11:12:56--  https://sid.erda.dk/share_redirect/EwaEr2JMrb/all_230_billion/ml_models/linear_regression/linear_barrier27_model.pkl\n",
            "Resolving sid.erda.dk (sid.erda.dk)... 130.225.104.13\n",
            "Connecting to sid.erda.dk (sid.erda.dk)|130.225.104.13|:443... connected.\n",
            "HTTP request sent, awaiting response... 200 OK\n",
            "Length: 5100 (5.0K)\n",
            "Saving to: ‘linear_barrier27_model.pkl’\n",
            "\n",
            "linear_barrier27_mo 100%[===================>]   4.98K  --.-KB/s    in 0s      \n",
            "\n",
            "2020-07-03 11:12:58 (149 MB/s) - ‘linear_barrier27_model.pkl’ saved [5100/5100]\n",
            "\n",
            "--2020-07-03 11:12:59--  https://sid.erda.dk/share_redirect/EwaEr2JMrb/all_230_billion/ml_models/linear_regression/storage-24_model.csv\n",
            "Resolving sid.erda.dk (sid.erda.dk)... 130.225.104.13\n",
            "Connecting to sid.erda.dk (sid.erda.dk)|130.225.104.13|:443... connected.\n",
            "HTTP request sent, awaiting response... 200 OK\n",
            "Length: 5405 (5.3K) [text/csv]\n",
            "Saving to: ‘storage-24_model.csv’\n",
            "\n",
            "storage-24_model.cs 100%[===================>]   5.28K  --.-KB/s    in 0s      \n",
            "\n",
            "2020-07-03 11:13:01 (162 MB/s) - ‘storage-24_model.csv’ saved [5405/5405]\n",
            "\n",
            "--2020-07-03 11:13:02--  https://sid.erda.dk/share_redirect/EwaEr2JMrb/all_230_billion/ml_models/linear_regression/storage-57_model.csv\n",
            "Resolving sid.erda.dk (sid.erda.dk)... 130.225.104.13\n",
            "Connecting to sid.erda.dk (sid.erda.dk)|130.225.104.13|:443... connected.\n",
            "HTTP request sent, awaiting response... 200 OK\n",
            "Length: 5447 (5.3K) [text/csv]\n",
            "Saving to: ‘storage-57_model.csv’\n",
            "\n",
            "storage-57_model.cs 100%[===================>]   5.32K  --.-KB/s    in 0s      \n",
            "\n",
            "2020-07-03 11:13:04 (194 MB/s) - ‘storage-57_model.csv’ saved [5447/5447]\n",
            "\n"
          ],
          "name": "stdout"
        }
      ]
    },
    {
      "cell_type": "code",
      "metadata": {
        "id": "l9deU5MzSXqn",
        "colab_type": "code",
        "colab": {
          "base_uri": "https://localhost:8080/",
          "height": 72
        },
        "outputId": "6cc0c5d2-8a6c-4cca-cb3b-a2849b223137"
      },
      "source": [
        "import sys \n",
        "sys.path.append('/usr/local/lib/python3.7/site-packages/')\n",
        "import pickle\n",
        "import random\n",
        "from collections import OrderedDict\n",
        "import re\n",
        "\n",
        "import pandas as pd\n",
        "import numpy as np\n",
        "import seaborn as sns\n",
        "import matplotlib.pyplot as plt\n",
        "\n",
        "import rdkit\n",
        "from rdkit import Chem\n",
        "from rdkit.Chem import Draw\n",
        "from rdkit.Chem.Draw import IPythonConsole\n",
        "\n",
        "import sklearn\n",
        "from sklearn.linear_model import LinearRegression"
      ],
      "execution_count": 3,
      "outputs": [
        {
          "output_type": "stream",
          "text": [
            "/usr/local/lib/python3.6/dist-packages/statsmodels/tools/_testing.py:19: FutureWarning: pandas.util.testing is deprecated. Use the functions in the public API at pandas.testing instead.\n",
            "  import pandas.util.testing as tm\n"
          ],
          "name": "stderr"
        }
      ]
    },
    {
      "cell_type": "markdown",
      "metadata": {
        "id": "EHjYk4QKPLNZ",
        "colab_type": "text"
      },
      "source": [
        "### Load ML Models"
      ]
    },
    {
      "cell_type": "code",
      "metadata": {
        "id": "LSwBwl1hPLss",
        "colab_type": "code",
        "colab": {
          "base_uri": "https://localhost:8080/",
          "height": 72
        },
        "outputId": "3092e600-b5ac-4332-c485-a6a55ee9ddbd"
      },
      "source": [
        "barrier_model = pickle.load(open('/content/linear_barrier27_model.pkl', 'rb'))"
      ],
      "execution_count": 4,
      "outputs": [
        {
          "output_type": "stream",
          "text": [
            "/usr/local/lib/python3.6/dist-packages/sklearn/base.py:318: UserWarning: Trying to unpickle estimator LinearRegression from version 0.22.1 when using version 0.22.2.post1. This might lead to breaking code or invalid results. Use at your own risk.\n",
            "  UserWarning)\n"
          ],
          "name": "stderr"
        }
      ]
    },
    {
      "cell_type": "code",
      "metadata": {
        "id": "t0BJp5P-7yBW",
        "colab_type": "code",
        "colab": {}
      },
      "source": [
        "density_coefs57 = np.genfromtxt('/content/storage-57_model.csv')\n",
        "density_coefs24 = np.genfromtxt('/content/storage-24_model.csv')\n",
        "\n",
        "def density_model_14(gene):\n",
        "    bias = density_coefs24[0]\n",
        "    coefs = density_coefs24[1:]\n",
        "    return gene.dot(coefs) + bias\n",
        "\n",
        "def density_model_57(gene):\n",
        "    bias = density_coefs57[0]\n",
        "    coefs = density_coefs57[1:]\n",
        "    return gene.dot(coefs) + bias"
      ],
      "execution_count": 5,
      "outputs": []
    },
    {
      "cell_type": "markdown",
      "metadata": {
        "id": "Y7CtVq3jO1sr",
        "colab_type": "text"
      },
      "source": [
        "# Misc Functions"
      ]
    },
    {
      "cell_type": "markdown",
      "metadata": {
        "id": "6lYzqW9pZbwj",
        "colab_type": "text"
      },
      "source": [
        "## One-Hot Representation\n",
        "Makes one-hot encoding of genes."
      ]
    },
    {
      "cell_type": "code",
      "metadata": {
        "id": "3Ca1DlR3mKTC",
        "colab_type": "code",
        "colab": {}
      },
      "source": [
        "def one_hot(gene):\n",
        "    \"\"\"Creates one-hot representation\"\"\"\n",
        "    one_hot = np.zeros((7,41), dtype=np.float32)\n",
        "    for i, base in enumerate([int(x) for x in gene.split('-')]):\n",
        "        if base == 0:\n",
        "            continue\n",
        "        one_hot[i,base - 1] = 1.\n",
        "    return one_hot"
      ],
      "execution_count": 6,
      "outputs": []
    },
    {
      "cell_type": "markdown",
      "metadata": {
        "id": "NZe0rwwXFQwd",
        "colab_type": "text"
      },
      "source": [
        "## GA helper functions"
      ]
    },
    {
      "cell_type": "code",
      "metadata": {
        "id": "GmbVPPXMHQmg",
        "colab_type": "code",
        "colab": {}
      },
      "source": [
        "def make_initial_population(population_size): \n",
        "  initial_mating_pool = []\n",
        "  for i in range(population_size):\n",
        "    gene = []\n",
        "    for j in range(7):\n",
        "      gene.append(41*[0.])\n",
        "    gene[random.randint(0,6)][random.randint(0,40)] = 1.\n",
        "    initial_mating_pool.append(gene)\n",
        "  return initial_mating_pool\n",
        "\n",
        "population_test = make_initial_population(5)"
      ],
      "execution_count": 7,
      "outputs": []
    },
    {
      "cell_type": "code",
      "metadata": {
        "id": "m4ENLqJLnGZV",
        "colab_type": "code",
        "colab": {}
      },
      "source": [
        "def make_array(population):\n",
        "  pop2 = []\n",
        "  for gene in population:\n",
        "    gene2 = [item for sublist in gene for item in sublist]\n",
        "    pop2.append(gene2)\n",
        "  pop2 = np.array(pop2)\n",
        "  return pop2\n",
        "\n",
        "def ThresholdedLinearModifier(scores, threshold):\n",
        "    return np.minimum(scores, threshold) / threshold\n",
        "\n",
        "def calculate_scores(population):\n",
        "    pop2 = make_array(population)\n",
        "\n",
        "    # Storage Density\n",
        "    density_scores = np.zeros(pop2.shape[0])\n",
        "    for i, gene in enumerate(pop2):\n",
        "        if gene.sum(axis=0) <= 4:\n",
        "            density_scores[i] = density_model_14(gene.reshape(1,287))\n",
        "        else:\n",
        "            density_scores[i] = density_model_57(gene.reshape(1,287))\n",
        "\n",
        "    density_scores = ThresholdedLinearModifier(density_scores,1.)\n",
        "\n",
        "    # Barrier\n",
        "    barrier_scores = barrier_model.predict(pop2)\n",
        "    barrier_scores = ThresholdedLinearModifier(barrier_scores, 180)\n",
        "  \n",
        "    return list(density_scores + barrier_scores)"
      ],
      "execution_count": 8,
      "outputs": []
    },
    {
      "cell_type": "code",
      "metadata": {
        "id": "GDvO8tM3TEEi",
        "colab_type": "code",
        "colab": {}
      },
      "source": [
        "def mutate(child, mutation_rate):\n",
        "  mutated_child = child\n",
        "  if np.random.random() < mutation_rate:\n",
        "    x = random.randint(0,6)\n",
        "    mutated_child[x] = 41*[0.]\n",
        "    mutated_child[x][random.randint(0,40)] = 1.\n",
        "    \n",
        "  return mutated_child"
      ],
      "execution_count": 9,
      "outputs": []
    },
    {
      "cell_type": "code",
      "metadata": {
        "id": "O5aYkCCYUucU",
        "colab_type": "code",
        "colab": {}
      },
      "source": [
        "def calculate_normalized_fitness(scores):  \n",
        "  #calculate probability\n",
        "  sum_scores = sum(scores)\n",
        "  normalized_fitness = [score/sum_scores for score in scores]\n",
        "\n",
        "  return normalized_fitness"
      ],
      "execution_count": 10,
      "outputs": []
    },
    {
      "cell_type": "code",
      "metadata": {
        "id": "JzdgCfY5Uvjx",
        "colab_type": "code",
        "colab": {}
      },
      "source": [
        "def make_mating_pool(population,fitness,mating_pool_size):\n",
        "  indices = range(len(population))\n",
        "  mating_pool = []\n",
        "  for i in range(mating_pool_size):\n",
        "    index = np.random.choice(indices, p=fitness)\n",
        "    mating_pool.append(population[index])\n",
        "\n",
        "  return mating_pool"
      ],
      "execution_count": 11,
      "outputs": []
    },
    {
      "cell_type": "code",
      "metadata": {
        "id": "xQOyr-UpyyXT",
        "colab_type": "code",
        "colab": {}
      },
      "source": [
        "def crossover(parent_A,parent_B):\n",
        "  cut = np.random.randint(1,len(parent_A)-1)\n",
        "  child = parent_A[:cut] + parent_B[cut:]\n",
        "  \n",
        "  return child"
      ],
      "execution_count": 12,
      "outputs": []
    },
    {
      "cell_type": "code",
      "metadata": {
        "id": "S88lhPWQU16o",
        "colab_type": "code",
        "colab": {}
      },
      "source": [
        "def reproduce(mating_pool, population_size, mutation_rate):\n",
        "  new_population = []\n",
        "  for n in range(population_size):\n",
        "    parent_A = random.choice(mating_pool)\n",
        "    parent_B = random.choice(mating_pool)\n",
        "    new_child = crossover(parent_A, parent_B)\n",
        "\n",
        "    if new_child != None:\n",
        "\t    new_child = mutate(new_child,mutation_rate)\n",
        "\t    if new_child != None:\n",
        "\t    \tnew_population.append(new_child)\n",
        " \n",
        "  return new_population"
      ],
      "execution_count": 13,
      "outputs": []
    },
    {
      "cell_type": "markdown",
      "metadata": {
        "id": "r8MZIS8_9Df1",
        "colab_type": "text"
      },
      "source": [
        "# Run GA"
      ]
    },
    {
      "cell_type": "code",
      "metadata": {
        "id": "NV0jjBzfU8lY",
        "colab_type": "code",
        "colab": {
          "base_uri": "https://localhost:8080/",
          "height": 1000
        },
        "outputId": "59cafe04-fa4a-4685-852f-027c67c15b36"
      },
      "source": [
        "import time\n",
        "\n",
        "population_size = 100 \n",
        "mating_pool_size = 100\n",
        "generations = 100\n",
        "mutation_rate = 0.20\n",
        "\n",
        "print('population_size', population_size)\n",
        "print('mating_pool_size', mating_pool_size)\n",
        "print('generations', generations)\n",
        "print('mutation_rate', mutation_rate)\n",
        "print('')\n",
        "\n",
        "results = []\n",
        "t0 = time.time()\n",
        "for i in range(1000):\n",
        "    population = make_initial_population(population_size)\n",
        "    scores = calculate_scores(population)\n",
        "    fitness = calculate_normalized_fitness(scores)\n",
        "\n",
        "    for generation in range(generations):\n",
        "        mating_pool = make_mating_pool(population, fitness, mating_pool_size)\n",
        "        new_population = reproduce(mating_pool, population_size, mutation_rate)\n",
        "        new_scores = calculate_scores(new_population)\n",
        "      \n",
        "        population_tuples = list(zip(scores+new_scores,population+new_population))\n",
        "\n",
        "        # Sort Pupulation tuples\n",
        "        population_tuples = sorted(population_tuples, key=lambda x: x[0], reverse=True)[:population_size]\n",
        "        \n",
        "        population = [t[1] for t in population_tuples]\n",
        "        scores = [t[0] for t in population_tuples]  \n",
        "        fitness = calculate_normalized_fitness(scores)\n",
        "\n",
        "    # Calculate density + barrier\n",
        "    flat_gene = np.array(population[0]).flatten()\n",
        "    if flat_gene.sum() <= 4:\n",
        "        density = density_model_14(flat_gene.reshape(1,287))\n",
        "    else:\n",
        "        density = density_model_57(flat_gene.reshape(1,287))\n",
        "    \n",
        "    barrier = barrier_model.predict(flat_gene.reshape(1,287))\n",
        "    \n",
        "    # Get Gene\n",
        "    gene_str = \"-\".join([str(x+1) for x in np.array(population[0]).argmax(axis=1)])\n",
        "\n",
        "    # print results from \n",
        "    print(f\"iter: {i+1} - gene: {gene_str}, fitness: {scores[0]:.2f}, density: {density[0]:.2f}, barrier: {barrier[0]:.2f}\")\n",
        "    results.append((gene_str, max(scores), density[0], barrier[0]))\n",
        "\n",
        "t1 = time.time()\n",
        "print('')\n",
        "print('time ',t1-t0)\n"
      ],
      "execution_count": 14,
      "outputs": [
        {
          "output_type": "stream",
          "text": [
            "population_size 100\n",
            "mating_pool_size 100\n",
            "generations 100\n",
            "mutation_rate 0.2\n",
            "\n",
            "iter: 1 - gene: 7-16-18-18-5-7-14, fitness: 1.53, density: 0.53, barrier: 190.37\n",
            "iter: 2 - gene: 9-16-5-1-6-1-1, fitness: 1.47, density: 0.47, barrier: 182.31\n",
            "iter: 3 - gene: 7-16-18-18-5-7-14, fitness: 1.53, density: 0.53, barrier: 190.37\n",
            "iter: 4 - gene: 7-16-18-18-5-7-14, fitness: 1.53, density: 0.53, barrier: 190.37\n",
            "iter: 5 - gene: 7-16-18-18-5-7-14, fitness: 1.53, density: 0.53, barrier: 190.37\n",
            "iter: 6 - gene: 7-16-18-18-5-7-14, fitness: 1.53, density: 0.53, barrier: 190.37\n",
            "iter: 7 - gene: 7-16-18-18-5-7-14, fitness: 1.53, density: 0.53, barrier: 190.37\n",
            "iter: 8 - gene: 7-16-18-18-5-7-14, fitness: 1.53, density: 0.53, barrier: 190.37\n",
            "iter: 9 - gene: 7-16-18-18-5-7-14, fitness: 1.53, density: 0.53, barrier: 190.37\n",
            "iter: 10 - gene: 7-16-18-18-5-7-14, fitness: 1.53, density: 0.53, barrier: 190.37\n",
            "iter: 11 - gene: 9-16-5-1-6-1-1, fitness: 1.47, density: 0.47, barrier: 182.31\n",
            "iter: 12 - gene: 7-16-18-18-5-7-14, fitness: 1.53, density: 0.53, barrier: 190.37\n",
            "iter: 13 - gene: 7-16-18-18-5-7-14, fitness: 1.53, density: 0.53, barrier: 190.37\n",
            "iter: 14 - gene: 9-16-5-1-6-1-1, fitness: 1.47, density: 0.47, barrier: 182.31\n",
            "iter: 15 - gene: 7-16-18-18-5-7-14, fitness: 1.53, density: 0.53, barrier: 190.37\n",
            "iter: 16 - gene: 7-16-18-18-5-7-14, fitness: 1.53, density: 0.53, barrier: 190.37\n",
            "iter: 17 - gene: 7-16-18-1-5-7-14, fitness: 1.53, density: 0.53, barrier: 183.99\n",
            "iter: 18 - gene: 7-16-18-18-5-7-14, fitness: 1.53, density: 0.53, barrier: 190.37\n",
            "iter: 19 - gene: 7-16-7-14-5-7-16, fitness: 1.50, density: 0.50, barrier: 179.57\n",
            "iter: 20 - gene: 7-16-18-18-5-7-14, fitness: 1.53, density: 0.53, barrier: 190.37\n",
            "iter: 21 - gene: 7-16-18-18-5-7-14, fitness: 1.53, density: 0.53, barrier: 190.37\n",
            "iter: 22 - gene: 9-16-5-1-6-1-1, fitness: 1.47, density: 0.47, barrier: 182.31\n",
            "iter: 23 - gene: 9-16-5-1-6-1-1, fitness: 1.47, density: 0.47, barrier: 182.31\n",
            "iter: 24 - gene: 7-16-18-18-5-7-14, fitness: 1.53, density: 0.53, barrier: 190.37\n",
            "iter: 25 - gene: 7-16-18-18-5-7-14, fitness: 1.53, density: 0.53, barrier: 190.37\n",
            "iter: 26 - gene: 7-16-18-18-5-7-14, fitness: 1.53, density: 0.53, barrier: 190.37\n",
            "iter: 27 - gene: 7-16-18-18-5-7-14, fitness: 1.53, density: 0.53, barrier: 190.37\n",
            "iter: 28 - gene: 7-16-18-18-1-7-14, fitness: 1.53, density: 0.53, barrier: 179.60\n",
            "iter: 29 - gene: 7-16-18-18-5-7-14, fitness: 1.53, density: 0.53, barrier: 190.37\n",
            "iter: 30 - gene: 9-16-5-1-6-1-1, fitness: 1.47, density: 0.47, barrier: 182.31\n",
            "iter: 31 - gene: 7-16-18-18-5-7-14, fitness: 1.53, density: 0.53, barrier: 190.37\n",
            "iter: 32 - gene: 9-16-6-1-5-1-1, fitness: 1.46, density: 0.46, barrier: 184.73\n",
            "iter: 33 - gene: 7-16-18-14-5-7-14, fitness: 1.53, density: 0.53, barrier: 183.13\n",
            "iter: 34 - gene: 7-16-18-18-5-8-14, fitness: 1.52, density: 0.52, barrier: 192.59\n",
            "iter: 35 - gene: 7-16-18-18-5-7-14, fitness: 1.53, density: 0.53, barrier: 190.37\n",
            "iter: 36 - gene: 7-16-18-18-5-7-14, fitness: 1.53, density: 0.53, barrier: 190.37\n",
            "iter: 37 - gene: 9-16-7-18-1-7-14, fitness: 1.50, density: 0.50, barrier: 183.89\n",
            "iter: 38 - gene: 7-16-18-18-5-7-14, fitness: 1.53, density: 0.53, barrier: 190.37\n",
            "iter: 39 - gene: 7-16-18-18-5-7-14, fitness: 1.53, density: 0.53, barrier: 190.37\n",
            "iter: 40 - gene: 7-16-18-18-5-7-14, fitness: 1.53, density: 0.53, barrier: 190.37\n",
            "iter: 41 - gene: 7-16-18-18-5-7-14, fitness: 1.53, density: 0.53, barrier: 190.37\n",
            "iter: 42 - gene: 7-16-18-18-5-7-14, fitness: 1.53, density: 0.53, barrier: 190.37\n",
            "iter: 43 - gene: 9-16-1-6-6-1-1, fitness: 1.46, density: 0.46, barrier: 185.58\n",
            "iter: 44 - gene: 7-16-18-18-5-7-14, fitness: 1.53, density: 0.53, barrier: 190.37\n",
            "iter: 45 - gene: 7-16-18-18-5-7-14, fitness: 1.53, density: 0.53, barrier: 190.37\n",
            "iter: 46 - gene: 7-16-18-18-5-7-14, fitness: 1.53, density: 0.53, barrier: 190.37\n",
            "iter: 47 - gene: 7-16-18-18-5-7-14, fitness: 1.53, density: 0.53, barrier: 190.37\n",
            "iter: 48 - gene: 7-16-18-18-5-7-14, fitness: 1.53, density: 0.53, barrier: 190.37\n",
            "iter: 49 - gene: 7-16-18-18-5-7-14, fitness: 1.53, density: 0.53, barrier: 190.37\n",
            "iter: 50 - gene: 7-16-18-18-5-7-14, fitness: 1.53, density: 0.53, barrier: 190.37\n",
            "iter: 51 - gene: 7-16-18-18-5-7-14, fitness: 1.53, density: 0.53, barrier: 190.37\n",
            "iter: 52 - gene: 7-16-18-18-5-7-14, fitness: 1.53, density: 0.53, barrier: 190.37\n",
            "iter: 53 - gene: 7-16-18-18-5-7-14, fitness: 1.53, density: 0.53, barrier: 190.37\n",
            "iter: 54 - gene: 9-16-5-1-6-1-1, fitness: 1.47, density: 0.47, barrier: 182.31\n",
            "iter: 55 - gene: 7-16-18-18-5-7-14, fitness: 1.53, density: 0.53, barrier: 190.37\n",
            "iter: 56 - gene: 7-16-18-18-5-7-14, fitness: 1.53, density: 0.53, barrier: 190.37\n",
            "iter: 57 - gene: 7-16-18-18-5-7-14, fitness: 1.53, density: 0.53, barrier: 190.37\n",
            "iter: 58 - gene: 9-16-5-1-6-1-1, fitness: 1.47, density: 0.47, barrier: 182.31\n",
            "iter: 59 - gene: 7-16-18-18-5-7-14, fitness: 1.53, density: 0.53, barrier: 190.37\n",
            "iter: 60 - gene: 7-16-18-18-5-7-14, fitness: 1.53, density: 0.53, barrier: 190.37\n",
            "iter: 61 - gene: 7-16-18-18-5-7-14, fitness: 1.53, density: 0.53, barrier: 190.37\n",
            "iter: 62 - gene: 7-16-18-18-5-7-14, fitness: 1.53, density: 0.53, barrier: 190.37\n",
            "iter: 63 - gene: 7-16-18-18-5-7-14, fitness: 1.53, density: 0.53, barrier: 190.37\n",
            "iter: 64 - gene: 7-16-18-18-5-7-14, fitness: 1.53, density: 0.53, barrier: 190.37\n",
            "iter: 65 - gene: 7-16-18-18-5-7-14, fitness: 1.53, density: 0.53, barrier: 190.37\n",
            "iter: 66 - gene: 7-16-18-18-5-7-14, fitness: 1.53, density: 0.53, barrier: 190.37\n",
            "iter: 67 - gene: 7-16-18-18-5-7-14, fitness: 1.53, density: 0.53, barrier: 190.37\n",
            "iter: 68 - gene: 7-16-18-18-5-7-14, fitness: 1.53, density: 0.53, barrier: 190.37\n",
            "iter: 69 - gene: 7-16-18-18-5-7-14, fitness: 1.53, density: 0.53, barrier: 190.37\n",
            "iter: 70 - gene: 7-16-18-18-5-7-14, fitness: 1.53, density: 0.53, barrier: 190.37\n",
            "iter: 71 - gene: 7-16-18-18-5-7-14, fitness: 1.53, density: 0.53, barrier: 190.37\n",
            "iter: 72 - gene: 7-16-18-18-5-7-14, fitness: 1.53, density: 0.53, barrier: 190.37\n",
            "iter: 73 - gene: 7-16-18-18-5-7-14, fitness: 1.53, density: 0.53, barrier: 190.37\n",
            "iter: 74 - gene: 7-16-18-18-5-7-14, fitness: 1.53, density: 0.53, barrier: 190.37\n",
            "iter: 75 - gene: 7-16-18-18-5-7-14, fitness: 1.53, density: 0.53, barrier: 190.37\n",
            "iter: 76 - gene: 7-16-18-18-5-7-14, fitness: 1.53, density: 0.53, barrier: 190.37\n",
            "iter: 77 - gene: 7-16-18-18-5-7-14, fitness: 1.53, density: 0.53, barrier: 190.37\n",
            "iter: 78 - gene: 9-16-5-1-6-1-1, fitness: 1.47, density: 0.47, barrier: 182.31\n",
            "iter: 79 - gene: 7-16-18-18-5-7-14, fitness: 1.53, density: 0.53, barrier: 190.37\n",
            "iter: 80 - gene: 7-16-18-18-5-7-14, fitness: 1.53, density: 0.53, barrier: 190.37\n",
            "iter: 81 - gene: 7-16-18-18-5-7-14, fitness: 1.53, density: 0.53, barrier: 190.37\n",
            "iter: 82 - gene: 7-16-18-18-5-7-14, fitness: 1.53, density: 0.53, barrier: 190.37\n",
            "iter: 83 - gene: 7-16-18-1-5-7-14, fitness: 1.53, density: 0.53, barrier: 183.99\n",
            "iter: 84 - gene: 7-16-18-18-5-7-14, fitness: 1.53, density: 0.53, barrier: 190.37\n",
            "iter: 85 - gene: 7-16-18-18-5-7-14, fitness: 1.53, density: 0.53, barrier: 190.37\n",
            "iter: 86 - gene: 7-16-18-18-5-7-14, fitness: 1.53, density: 0.53, barrier: 190.37\n",
            "iter: 87 - gene: 7-16-18-18-5-7-14, fitness: 1.53, density: 0.53, barrier: 190.37\n",
            "iter: 88 - gene: 7-16-18-18-5-7-14, fitness: 1.53, density: 0.53, barrier: 190.37\n",
            "iter: 89 - gene: 7-16-18-18-5-7-14, fitness: 1.53, density: 0.53, barrier: 190.37\n",
            "iter: 90 - gene: 7-16-18-1-5-7-1, fitness: 1.51, density: 0.51, barrier: 183.62\n",
            "iter: 91 - gene: 7-16-18-18-5-7-14, fitness: 1.53, density: 0.53, barrier: 190.37\n",
            "iter: 92 - gene: 7-16-18-18-5-7-14, fitness: 1.53, density: 0.53, barrier: 190.37\n",
            "iter: 93 - gene: 7-16-18-18-5-7-14, fitness: 1.53, density: 0.53, barrier: 190.37\n",
            "iter: 94 - gene: 9-16-6-1-5-1-1, fitness: 1.46, density: 0.46, barrier: 184.73\n",
            "iter: 95 - gene: 7-16-18-18-5-7-14, fitness: 1.53, density: 0.53, barrier: 190.37\n",
            "iter: 96 - gene: 7-16-5-1-6-1-1, fitness: 1.47, density: 0.47, barrier: 181.44\n",
            "iter: 97 - gene: 7-16-18-18-5-7-14, fitness: 1.53, density: 0.53, barrier: 190.37\n",
            "iter: 98 - gene: 7-16-18-18-5-7-14, fitness: 1.53, density: 0.53, barrier: 190.37\n",
            "iter: 99 - gene: 7-16-18-18-5-7-14, fitness: 1.53, density: 0.53, barrier: 190.37\n",
            "iter: 100 - gene: 7-16-18-18-5-7-14, fitness: 1.53, density: 0.53, barrier: 190.37\n",
            "\n",
            "time  138.09609842300415\n"
          ],
          "name": "stdout"
        }
      ]
    },
    {
      "cell_type": "markdown",
      "metadata": {
        "id": "Bp4Co_rK8r2G",
        "colab_type": "text"
      },
      "source": [
        "# Analyse GA results\n",
        "Can we find the 'best' molecules? The best 5 molecules (density >= 180 kJ/mol) have the genes:\n",
        "\n",
        "1. 7-16-18-18-5-7-14  (0.531, 190.37)\n",
        "2. 7-16-18-14-5-7-14  (0.529, 183.13)\n",
        "3. 7-16-18-0-5-7-14    (0.528, 183.99)    \n",
        "4. 7-16-18-18-5-7-16  (0.526, 183.40)\n",
        "5. 7-16-18-18-14-7-14 (0.525, 184.89)"
      ]
    },
    {
      "cell_type": "code",
      "metadata": {
        "id": "RppEArejZB3U",
        "colab_type": "code",
        "colab": {}
      },
      "source": [
        "df_ga = pd.DataFrame(results, columns=['gene', 'fitness', 'density', 'barrier'])\n",
        "df_ga_unique = df_ga.drop_duplicates().set_index(\"gene\")\n",
        "\n",
        "# count gene occurrence\n",
        "gene_count = df_ga.groupby('gene').count().sort_values(\"barrier\", ascending=False)[\"barrier\"]\n",
        "gene_count.rename(\"num_found\", inplace=True)\n",
        "\n",
        "df_ga_unique = pd.concat([df_ga_unique, gene_count], axis=1)"
      ],
      "execution_count": 15,
      "outputs": []
    },
    {
      "cell_type": "code",
      "metadata": {
        "id": "Aj0HwP59ar2S",
        "colab_type": "code",
        "colab": {}
      },
      "source": [
        "# Add Stats\n",
        "df_ga_unique[\"found_procentage\"] = df_ga_unique[\"num_found\"] / df_ga_unique[\"num_found\"].sum()\n",
        "df_ga_unique[\"95_certian\"] = (np.log(-0.95 + 1) / np.log(1 - df_ga_unique[\"found_procentage\"])).round(2)\n",
        "df_ga_unique[\"99_certian\"] = (np.log(-0.99 + 1) / np.log(1 - df_ga_unique[\"found_procentage\"])).round(2)"
      ],
      "execution_count": 16,
      "outputs": []
    },
    {
      "cell_type": "code",
      "metadata": {
        "id": "-7o1tFW9c-V4",
        "colab_type": "code",
        "colab": {
          "base_uri": "https://localhost:8080/",
          "height": 426
        },
        "outputId": "2dbe67ac-9e58-4db4-d8a5-6a661255245e"
      },
      "source": [
        "df_ga_unique = df_ga_unique.sort_values(\"num_found\", ascending=False)\n",
        "df_ga_unique"
      ],
      "execution_count": 17,
      "outputs": [
        {
          "output_type": "execute_result",
          "data": {
            "text/html": [
              "<div>\n",
              "<style scoped>\n",
              "    .dataframe tbody tr th:only-of-type {\n",
              "        vertical-align: middle;\n",
              "    }\n",
              "\n",
              "    .dataframe tbody tr th {\n",
              "        vertical-align: top;\n",
              "    }\n",
              "\n",
              "    .dataframe thead th {\n",
              "        text-align: right;\n",
              "    }\n",
              "</style>\n",
              "<table border=\"1\" class=\"dataframe\">\n",
              "  <thead>\n",
              "    <tr style=\"text-align: right;\">\n",
              "      <th></th>\n",
              "      <th>fitness</th>\n",
              "      <th>density</th>\n",
              "      <th>barrier</th>\n",
              "      <th>num_found</th>\n",
              "      <th>found_procentage</th>\n",
              "      <th>95_certian</th>\n",
              "      <th>99_certian</th>\n",
              "    </tr>\n",
              "  </thead>\n",
              "  <tbody>\n",
              "    <tr>\n",
              "      <th>7-16-18-18-5-7-14</th>\n",
              "      <td>1.530738</td>\n",
              "      <td>0.530738</td>\n",
              "      <td>190.373399</td>\n",
              "      <td>79</td>\n",
              "      <td>0.79</td>\n",
              "      <td>1.92</td>\n",
              "      <td>2.95</td>\n",
              "    </tr>\n",
              "    <tr>\n",
              "      <th>9-16-5-1-6-1-1</th>\n",
              "      <td>1.471154</td>\n",
              "      <td>0.471154</td>\n",
              "      <td>182.309977</td>\n",
              "      <td>9</td>\n",
              "      <td>0.09</td>\n",
              "      <td>31.76</td>\n",
              "      <td>48.83</td>\n",
              "    </tr>\n",
              "    <tr>\n",
              "      <th>7-16-18-1-5-7-14</th>\n",
              "      <td>1.527715</td>\n",
              "      <td>0.527715</td>\n",
              "      <td>183.991605</td>\n",
              "      <td>2</td>\n",
              "      <td>0.02</td>\n",
              "      <td>148.28</td>\n",
              "      <td>227.95</td>\n",
              "    </tr>\n",
              "    <tr>\n",
              "      <th>9-16-6-1-5-1-1</th>\n",
              "      <td>1.462924</td>\n",
              "      <td>0.462924</td>\n",
              "      <td>184.730133</td>\n",
              "      <td>2</td>\n",
              "      <td>0.02</td>\n",
              "      <td>148.28</td>\n",
              "      <td>227.95</td>\n",
              "    </tr>\n",
              "    <tr>\n",
              "      <th>7-16-7-14-5-7-16</th>\n",
              "      <td>1.495090</td>\n",
              "      <td>0.497470</td>\n",
              "      <td>179.571497</td>\n",
              "      <td>1</td>\n",
              "      <td>0.01</td>\n",
              "      <td>298.07</td>\n",
              "      <td>458.21</td>\n",
              "    </tr>\n",
              "    <tr>\n",
              "      <th>7-16-18-18-1-7-14</th>\n",
              "      <td>1.527397</td>\n",
              "      <td>0.529636</td>\n",
              "      <td>179.597073</td>\n",
              "      <td>1</td>\n",
              "      <td>0.01</td>\n",
              "      <td>298.07</td>\n",
              "      <td>458.21</td>\n",
              "    </tr>\n",
              "    <tr>\n",
              "      <th>7-16-18-14-5-7-14</th>\n",
              "      <td>1.529294</td>\n",
              "      <td>0.529294</td>\n",
              "      <td>183.127461</td>\n",
              "      <td>1</td>\n",
              "      <td>0.01</td>\n",
              "      <td>298.07</td>\n",
              "      <td>458.21</td>\n",
              "    </tr>\n",
              "    <tr>\n",
              "      <th>7-16-18-18-5-8-14</th>\n",
              "      <td>1.517840</td>\n",
              "      <td>0.517840</td>\n",
              "      <td>192.590854</td>\n",
              "      <td>1</td>\n",
              "      <td>0.01</td>\n",
              "      <td>298.07</td>\n",
              "      <td>458.21</td>\n",
              "    </tr>\n",
              "    <tr>\n",
              "      <th>9-16-7-18-1-7-14</th>\n",
              "      <td>1.495921</td>\n",
              "      <td>0.495921</td>\n",
              "      <td>183.886725</td>\n",
              "      <td>1</td>\n",
              "      <td>0.01</td>\n",
              "      <td>298.07</td>\n",
              "      <td>458.21</td>\n",
              "    </tr>\n",
              "    <tr>\n",
              "      <th>9-16-1-6-6-1-1</th>\n",
              "      <td>1.460647</td>\n",
              "      <td>0.460647</td>\n",
              "      <td>185.582793</td>\n",
              "      <td>1</td>\n",
              "      <td>0.01</td>\n",
              "      <td>298.07</td>\n",
              "      <td>458.21</td>\n",
              "    </tr>\n",
              "    <tr>\n",
              "      <th>7-16-18-1-5-7-1</th>\n",
              "      <td>1.509348</td>\n",
              "      <td>0.509348</td>\n",
              "      <td>183.619862</td>\n",
              "      <td>1</td>\n",
              "      <td>0.01</td>\n",
              "      <td>298.07</td>\n",
              "      <td>458.21</td>\n",
              "    </tr>\n",
              "    <tr>\n",
              "      <th>7-16-5-1-6-1-1</th>\n",
              "      <td>1.469983</td>\n",
              "      <td>0.469983</td>\n",
              "      <td>181.435385</td>\n",
              "      <td>1</td>\n",
              "      <td>0.01</td>\n",
              "      <td>298.07</td>\n",
              "      <td>458.21</td>\n",
              "    </tr>\n",
              "  </tbody>\n",
              "</table>\n",
              "</div>"
            ],
            "text/plain": [
              "                    fitness   density  ...  95_certian  99_certian\n",
              "7-16-18-18-5-7-14  1.530738  0.530738  ...        1.92        2.95\n",
              "9-16-5-1-6-1-1     1.471154  0.471154  ...       31.76       48.83\n",
              "7-16-18-1-5-7-14   1.527715  0.527715  ...      148.28      227.95\n",
              "9-16-6-1-5-1-1     1.462924  0.462924  ...      148.28      227.95\n",
              "7-16-7-14-5-7-16   1.495090  0.497470  ...      298.07      458.21\n",
              "7-16-18-18-1-7-14  1.527397  0.529636  ...      298.07      458.21\n",
              "7-16-18-14-5-7-14  1.529294  0.529294  ...      298.07      458.21\n",
              "7-16-18-18-5-8-14  1.517840  0.517840  ...      298.07      458.21\n",
              "9-16-7-18-1-7-14   1.495921  0.495921  ...      298.07      458.21\n",
              "9-16-1-6-6-1-1     1.460647  0.460647  ...      298.07      458.21\n",
              "7-16-18-1-5-7-1    1.509348  0.509348  ...      298.07      458.21\n",
              "7-16-5-1-6-1-1     1.469983  0.469983  ...      298.07      458.21\n",
              "\n",
              "[12 rows x 7 columns]"
            ]
          },
          "metadata": {
            "tags": []
          },
          "execution_count": 17
        }
      ]
    },
    {
      "cell_type": "markdown",
      "metadata": {
        "id": "6E5rN8AHP5Mu",
        "colab_type": "text"
      },
      "source": [
        "# Draw the found molecules molecules"
      ]
    },
    {
      "cell_type": "code",
      "metadata": {
        "id": "TeAzHVRRSS_P",
        "colab_type": "code",
        "colab": {}
      },
      "source": [
        "ligands = ['H', 'F', 'Cl', 'Br', 'C(F)(F)(F)', 'C#N',\n",
        "           '[N+](=O)([O-])', 'C(=O)[H]', 'C(=O)O',\n",
        "           'C(=O)C', 'C(=O)N', 'C#C', 'S(=O)(=O)(C)',\n",
        "           'C=N', 'O', 'OC', 'N', 'N(C)(C)', 'C',\n",
        "           'N(C(=O)(C))', 'SC', 'C3=CC=C(F)C=C3',\n",
        "           'C3=CC=C(Cl)C=C3', 'C3=CC=C(Br)C=C3',\n",
        "           'C3=CC=C(C(F)(F)(F))C=C3',\n",
        "           'C3=CC=C(C#N)C=C3', 'C3=CC=C([N+](=O)([O-]))C=C3',\n",
        "           'C3=CC=C(C(=O)[H])C=C3', 'C3=CC=C(C(=O)O)C=C3',\n",
        "           'C3=CC=C(C(=O)C)C=C3', 'C3=CC=C(C(=O)N)C=C3',\n",
        "           'C3=CC=C(C#C)C=C3', 'C3=CC=C(S(=O)(=O)(C))C=C3',\n",
        "           'C3=CC=C(C=N)C=C3', 'C3=CC=C(O)C=C3',\n",
        "           'C3=CC=C(OC)C=C3', 'C3=CC=C(N)C=C3',\n",
        "           'C3=CC=C(N(C)(C))C=C3', 'C3=CC=C(C)C=C3',\n",
        "           'C3=CC=C(N(C(=O)(C)))C=C3', 'C3=CC=C(SC)C=C3',\n",
        "           'C3=CC=CC=C3']\n",
        "\n",
        "ligand_num2smiles = OrderedDict(zip(list(range(len(ligands))),ligands))"
      ],
      "execution_count": 18,
      "outputs": []
    },
    {
      "cell_type": "code",
      "metadata": {
        "id": "Pmqn_ktMf5JW",
        "colab_type": "code",
        "colab": {}
      },
      "source": [
        "def get_mol(gene):\n",
        "    global ligands\n",
        "\n",
        "    gene = gene.split('-')\n",
        "    core = 'N#CC1(C#N)C(1)=C(2)C2=C(3)C(4)=C(5)C(6)=C(7)C21'\n",
        "    \n",
        "    gene_smiles = core\n",
        "    for i, ligand_idx in enumerate(gene):\n",
        "        substr = ligands[int(ligand_idx)]\n",
        "        if substr == 'H':\n",
        "            continue\n",
        "        gene_smiles = gene_smiles.replace('('+str(i+1)+')', f'({substr})')\n",
        "    mol = Chem.MolFromSmiles(re.sub('\\([0-9]\\)', '', gene_smiles))\n",
        "    return mol"
      ],
      "execution_count": 19,
      "outputs": []
    },
    {
      "cell_type": "code",
      "metadata": {
        "id": "QnvXazZgzjiE",
        "colab_type": "code",
        "colab": {
          "base_uri": "https://localhost:8080/",
          "height": 617
        },
        "outputId": "76daa82f-e5b5-4074-a713-3d2057ae00b2"
      },
      "source": [
        "mols = []\n",
        "genes = []\n",
        "for row in df_ga_unique.itertuples():\n",
        "    mols.append(get_mol(row.Index))\n",
        "    genes.append(row.Index)\n",
        "\n",
        "img = Draw.MolsToGridImage(mols,molsPerRow=4,legends=genes,subImgSize=(200,200))\n",
        "img"
      ],
      "execution_count": 20,
      "outputs": [
        {
          "output_type": "execute_result",
          "data": {
            "image/png": "[encoded data removed]",
            "text/plain": [
              "<PIL.PngImagePlugin.PngImageFile image mode=RGB size=800x600 at 0x7F1BBA584C50>"
            ]
          },
          "metadata": {
            "tags": []
          },
          "execution_count": 20
        }
      ]
    },
    {
      "cell_type": "code",
      "metadata": {
        "id": "HRu2EFWAXgHJ",
        "colab_type": "code",
        "colab": {}
      },
      "source": [
        ""
      ],
      "execution_count": 20,
      "outputs": []
    }
  ]
}